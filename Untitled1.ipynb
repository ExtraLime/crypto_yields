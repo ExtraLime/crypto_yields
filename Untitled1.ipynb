{
 "cells": [
  {
   "cell_type": "code",
   "execution_count": 1,
   "metadata": {},
   "outputs": [],
   "source": [
    "import requests\n",
    "import numpy as np\n",
    "import pandas as pd"
   ]
  },
  {
   "cell_type": "code",
   "execution_count": 8,
   "metadata": {},
   "outputs": [
    {
     "output_type": "stream",
     "name": "stdout",
     "text": [
      "60\n60\n4\n"
     ]
    }
   ],
   "source": [
    "res = requests.get('https://www.binance.com/bapi/earn/v1/friendly/pos/union').json()\n",
    "print(res['total'])\n",
    "total = res['total']\n",
    "loops = int(np.ceil(total/15))\n",
    "\n",
    "print(total)\n",
    "\n",
    "print(loops)\n"
   ]
  },
  {
   "cell_type": "code",
   "execution_count": 29,
   "metadata": {},
   "outputs": [
    {
     "output_type": "stream",
     "name": "stdout",
     "text": [
      "      asset         apy lock\n0     MATIC  0.34470000    7\n1       LPT  0.10280000   30\n2       DOT  0.12790000   30\n3       MDX  0.37490000   30\n4     1INCH  0.31790000   15\n5       TKO  0.21790000   30\n6        EZ  0.15340000   30\n7       TVK  0.18590000   30\n8       MIR  0.15360000   30\n9      RAMP  0.11590000   30\n10  AUCTION  0.32340000   30\n11      ADA  0.07790000   30\n12     ROSE  0.18670000   30\n13     VITE  0.15240000   30\n14     BIFI  0.30540000   30\n15     IOTX  0.06790000   30\n16     CAKE  0.47250000   30\n17     BAKE  0.14230000   30\n18     NEAR  0.17490000   30\n19      OGN  0.17490000   30\n20      SOL  0.10100000   30\n21      BNB  0.11060000   30\n22      EOS  0.04690000   30\n23     ATOM  0.13470000   30\n24     DODO  0.21320000   30\n25     ALGO  0.10470000   30\n26      TRX  0.09340000   30\n27     IOST  0.11790000   30\n28      XEM  0.02800000   30\n29     IRIS  0.19500000   30\n30     CELR  0.14460000   30\n31      LTO  0.10000000    7\n32      XTZ  0.09470000   30\n33     DASH  0.11030000   30\n34     AVAX  0.12490000   30\n35    SUSHI  0.09500000   15\n36      KSM  0.14790000   30\n37      YFI  0.04490000   15\n38      ICX  0.13570000   30\n39    WAVES  0.07490000   15\n40     QTUM  0.04190000   30\n41      CRV  0.07260000   15\n42      KNC  0.13790000   30\n43     BAND  0.17490000   30\n44     KAVA  0.11220000   30\n45      ONE  0.14340000   30\n46      KMD  0.12750000   30\n47     TOMO  0.21490000   30\n48      ADX  0.46700000   30\n49     FIRO  0.05780000   30\n50      PNT  0.30000000   30\n51      COS  0.25490000   15\n52     ARPA  0.11790000   30\n53      OAX  0.10000000   30\n54      LSK  0.02230000   30\n"
     ]
    }
   ],
   "source": [
    "adata = []\n",
    "durations = []\n",
    "for i in range(loops):\n",
    "    ix = i+1\n",
    "    res = requests.get(f'https://www.binance.com/bapi/earn/v1/friendly/pos/union?pageSize=15&pageIndex={ix}&status=SUBSCRIBABLE').json()\n",
    "    for i in res['data']:\n",
    "        if float(i['annualInterestRate'])>0:\n",
    "            # adata.append(i)\n",
    "            adata.append({\n",
    "                'asset':i['asset'],\n",
    "                'apy':i['annualInterestRate'],\n",
    "                'lock': i['projects'][0]['duration']\n",
    "            })\n",
    "            # duration.append(i['projects'][0]['duration'])\n",
    "    \n",
    "\n",
    "print(pd.DataFrame(adata))"
   ]
  },
  {
   "cell_type": "code",
   "execution_count": 13,
   "metadata": {},
   "outputs": [],
   "source": [
    "def get_binance_rates():\n",
    "    #locked staking rates\n",
    "    t = requests.get('https://www.binance.com/bapi/earn/v1/friendly/pos/union').json()\n",
    "    print(t['total'])\n",
    "    total = t['total']\n",
    "    loops = int(np.ceil(total/15))\n",
    "\n",
    "    locked_staking_data = []\n",
    "    for i in range(loops):\n",
    "        ix = i+1\n",
    "        res = requests.get(f'https://www.binance.com/bapi/earn/v1/friendly/pos/union?pageSize=15&pageIndex={ix}&status=SUBSCRIBABLE').json()\n",
    "        for i in res['data']:\n",
    "            if float(i['annualInterestRate'])>0:\n",
    "                locked_staking_data.append({\n",
    "                    'asset':i['asset'],\n",
    "                    'apy':i['annualInterestRate'],\n",
    "                    'lock': i['projects'][0]['duration']\n",
    "                })\n",
    "\n",
    "    return locked_staking_data\n",
    "\n",
    "   "
   ]
  },
  {
   "cell_type": "code",
   "execution_count": 14,
   "metadata": {},
   "outputs": [
    {
     "output_type": "stream",
     "name": "stdout",
     "text": [
      "60\n"
     ]
    },
    {
     "output_type": "execute_result",
     "data": {
      "text/plain": [
       "[{'asset': 'MATIC', 'apy': '0.34470000', 'lock': '7'},\n",
       " {'asset': 'LPT', 'apy': '0.10280000', 'lock': '30'},\n",
       " {'asset': 'DOT', 'apy': '0.12790000', 'lock': '30'},\n",
       " {'asset': 'MDX', 'apy': '0.37490000', 'lock': '30'},\n",
       " {'asset': '1INCH', 'apy': '0.31790000', 'lock': '15'},\n",
       " {'asset': 'TKO', 'apy': '0.14470000', 'lock': '30'},\n",
       " {'asset': 'EZ', 'apy': '0.15340000', 'lock': '30'},\n",
       " {'asset': 'TVK', 'apy': '0.18590000', 'lock': '30'},\n",
       " {'asset': 'MIR', 'apy': '0.15360000', 'lock': '30'},\n",
       " {'asset': 'RAMP', 'apy': '0.11590000', 'lock': '30'},\n",
       " {'asset': 'AUCTION', 'apy': '0.32340000', 'lock': '30'},\n",
       " {'asset': 'ADA', 'apy': '0.07790000', 'lock': '30'},\n",
       " {'asset': 'ROSE', 'apy': '0.18670000', 'lock': '30'},\n",
       " {'asset': 'VITE', 'apy': '0.15240000', 'lock': '30'},\n",
       " {'asset': 'BIFI', 'apy': '0.30540000', 'lock': '30'},\n",
       " {'asset': 'IOTX', 'apy': '0.06790000', 'lock': '30'},\n",
       " {'asset': 'CAKE', 'apy': '0.47250000', 'lock': '30'},\n",
       " {'asset': 'BAKE', 'apy': '0.14230000', 'lock': '30'},\n",
       " {'asset': 'NEAR', 'apy': '0.17490000', 'lock': '30'},\n",
       " {'asset': 'OGN', 'apy': '0.17490000', 'lock': '30'},\n",
       " {'asset': 'SOL', 'apy': '0.10100000', 'lock': '30'},\n",
       " {'asset': 'BNB', 'apy': '0.09210000', 'lock': '30'},\n",
       " {'asset': 'EOS', 'apy': '0.04690000', 'lock': '30'},\n",
       " {'asset': 'ATOM', 'apy': '0.13470000', 'lock': '30'},\n",
       " {'asset': 'DODO', 'apy': '0.21320000', 'lock': '30'},\n",
       " {'asset': 'ALGO', 'apy': '0.10470000', 'lock': '30'},\n",
       " {'asset': 'TRX', 'apy': '0.05490000', 'lock': '30'},\n",
       " {'asset': 'IOST', 'apy': '0.11790000', 'lock': '30'},\n",
       " {'asset': 'XEM', 'apy': '0.02800000', 'lock': '30'},\n",
       " {'asset': 'IRIS', 'apy': '0.14250000', 'lock': '30'},\n",
       " {'asset': 'CELR', 'apy': '0.14460000', 'lock': '30'},\n",
       " {'asset': 'LTO', 'apy': '0.10000000', 'lock': '7'},\n",
       " {'asset': 'XTZ', 'apy': '0.07490000', 'lock': '30'},\n",
       " {'asset': 'DASH', 'apy': '0.11030000', 'lock': '30'},\n",
       " {'asset': 'AVAX', 'apy': '0.12490000', 'lock': '30'},\n",
       " {'asset': 'SUSHI', 'apy': '0.09500000', 'lock': '15'},\n",
       " {'asset': 'KSM', 'apy': '0.14790000', 'lock': '30'},\n",
       " {'asset': 'YFI', 'apy': '0.04490000', 'lock': '15'},\n",
       " {'asset': 'ICX', 'apy': '0.13570000', 'lock': '30'},\n",
       " {'asset': 'WAVES', 'apy': '0.07490000', 'lock': '15'},\n",
       " {'asset': 'QTUM', 'apy': '0.04190000', 'lock': '30'},\n",
       " {'asset': 'CRV', 'apy': '0.07260000', 'lock': '15'},\n",
       " {'asset': 'KNC', 'apy': '0.13790000', 'lock': '30'},\n",
       " {'asset': 'BAND', 'apy': '0.17490000', 'lock': '30'},\n",
       " {'asset': 'KAVA', 'apy': '0.11220000', 'lock': '30'},\n",
       " {'asset': 'ONE', 'apy': '0.09470000', 'lock': '30'},\n",
       " {'asset': 'KMD', 'apy': '0.12750000', 'lock': '30'},\n",
       " {'asset': 'TOMO', 'apy': '0.21490000', 'lock': '30'},\n",
       " {'asset': 'ADX', 'apy': '0.46700000', 'lock': '30'},\n",
       " {'asset': 'FIRO', 'apy': '0.05780000', 'lock': '30'},\n",
       " {'asset': 'PNT', 'apy': '0.30000000', 'lock': '30'},\n",
       " {'asset': 'COS', 'apy': '0.25490000', 'lock': '15'},\n",
       " {'asset': 'ARPA', 'apy': '0.11790000', 'lock': '30'},\n",
       " {'asset': 'OAX', 'apy': '0.10000000', 'lock': '30'},\n",
       " {'asset': 'LSK', 'apy': '0.02230000', 'lock': '30'}]"
      ]
     },
     "metadata": {},
     "execution_count": 14
    }
   ],
   "source": [
    "get_binance_rates()"
   ]
  },
  {
   "cell_type": "code",
   "execution_count": 15,
   "metadata": {},
   "outputs": [
    {
     "output_type": "stream",
     "name": "stdout",
     "text": [
      "60\n"
     ]
    }
   ],
   "source": [
    "this = get_binance_rates()"
   ]
  },
  {
   "cell_type": "code",
   "execution_count": 16,
   "metadata": {},
   "outputs": [
    {
     "output_type": "execute_result",
     "data": {
      "text/plain": [
       "[{'asset': 'MATIC', 'apy': '0.34470000', 'lock': '7'},\n",
       " {'asset': 'LPT', 'apy': '0.10280000', 'lock': '30'},\n",
       " {'asset': 'DOT', 'apy': '0.12790000', 'lock': '30'},\n",
       " {'asset': 'MDX', 'apy': '0.37490000', 'lock': '30'},\n",
       " {'asset': '1INCH', 'apy': '0.31790000', 'lock': '15'},\n",
       " {'asset': 'TKO', 'apy': '0.14470000', 'lock': '30'},\n",
       " {'asset': 'EZ', 'apy': '0.15340000', 'lock': '30'},\n",
       " {'asset': 'TVK', 'apy': '0.18590000', 'lock': '30'},\n",
       " {'asset': 'MIR', 'apy': '0.15360000', 'lock': '30'},\n",
       " {'asset': 'RAMP', 'apy': '0.11590000', 'lock': '30'},\n",
       " {'asset': 'AUCTION', 'apy': '0.32340000', 'lock': '30'},\n",
       " {'asset': 'ADA', 'apy': '0.07790000', 'lock': '30'},\n",
       " {'asset': 'ROSE', 'apy': '0.18670000', 'lock': '30'},\n",
       " {'asset': 'VITE', 'apy': '0.15240000', 'lock': '30'},\n",
       " {'asset': 'BIFI', 'apy': '0.30540000', 'lock': '30'},\n",
       " {'asset': 'IOTX', 'apy': '0.06790000', 'lock': '30'},\n",
       " {'asset': 'CAKE', 'apy': '0.47250000', 'lock': '30'},\n",
       " {'asset': 'BAKE', 'apy': '0.14230000', 'lock': '30'},\n",
       " {'asset': 'NEAR', 'apy': '0.17490000', 'lock': '30'},\n",
       " {'asset': 'OGN', 'apy': '0.17490000', 'lock': '30'},\n",
       " {'asset': 'SOL', 'apy': '0.10100000', 'lock': '30'},\n",
       " {'asset': 'BNB', 'apy': '0.09210000', 'lock': '30'},\n",
       " {'asset': 'EOS', 'apy': '0.04690000', 'lock': '30'},\n",
       " {'asset': 'ATOM', 'apy': '0.13470000', 'lock': '30'},\n",
       " {'asset': 'DODO', 'apy': '0.21320000', 'lock': '30'},\n",
       " {'asset': 'ALGO', 'apy': '0.10470000', 'lock': '30'},\n",
       " {'asset': 'TRX', 'apy': '0.05490000', 'lock': '30'},\n",
       " {'asset': 'IOST', 'apy': '0.11790000', 'lock': '30'},\n",
       " {'asset': 'XEM', 'apy': '0.02800000', 'lock': '30'},\n",
       " {'asset': 'IRIS', 'apy': '0.14250000', 'lock': '30'},\n",
       " {'asset': 'CELR', 'apy': '0.14460000', 'lock': '30'},\n",
       " {'asset': 'LTO', 'apy': '0.10000000', 'lock': '7'},\n",
       " {'asset': 'XTZ', 'apy': '0.07490000', 'lock': '30'},\n",
       " {'asset': 'DASH', 'apy': '0.11030000', 'lock': '30'},\n",
       " {'asset': 'AVAX', 'apy': '0.12490000', 'lock': '30'},\n",
       " {'asset': 'SUSHI', 'apy': '0.09500000', 'lock': '15'},\n",
       " {'asset': 'KSM', 'apy': '0.14790000', 'lock': '30'},\n",
       " {'asset': 'YFI', 'apy': '0.04490000', 'lock': '15'},\n",
       " {'asset': 'ICX', 'apy': '0.13570000', 'lock': '30'},\n",
       " {'asset': 'WAVES', 'apy': '0.07490000', 'lock': '15'},\n",
       " {'asset': 'QTUM', 'apy': '0.04190000', 'lock': '30'},\n",
       " {'asset': 'CRV', 'apy': '0.07260000', 'lock': '15'},\n",
       " {'asset': 'KNC', 'apy': '0.13790000', 'lock': '30'},\n",
       " {'asset': 'BAND', 'apy': '0.17490000', 'lock': '30'},\n",
       " {'asset': 'KAVA', 'apy': '0.11220000', 'lock': '30'},\n",
       " {'asset': 'ONE', 'apy': '0.09470000', 'lock': '30'},\n",
       " {'asset': 'KMD', 'apy': '0.12750000', 'lock': '30'},\n",
       " {'asset': 'TOMO', 'apy': '0.21490000', 'lock': '30'},\n",
       " {'asset': 'ADX', 'apy': '0.46700000', 'lock': '30'},\n",
       " {'asset': 'FIRO', 'apy': '0.05780000', 'lock': '30'},\n",
       " {'asset': 'PNT', 'apy': '0.30000000', 'lock': '30'},\n",
       " {'asset': 'COS', 'apy': '0.25490000', 'lock': '15'},\n",
       " {'asset': 'ARPA', 'apy': '0.11790000', 'lock': '30'},\n",
       " {'asset': 'OAX', 'apy': '0.10000000', 'lock': '30'},\n",
       " {'asset': 'LSK', 'apy': '0.02230000', 'lock': '30'}]"
      ]
     },
     "metadata": {},
     "execution_count": 16
    }
   ],
   "source": [
    "this"
   ]
  },
  {
   "cell_type": "code",
   "execution_count": null,
   "metadata": {},
   "outputs": [],
   "source": []
  }
 ],
 "metadata": {
  "kernelspec": {
   "name": "python3",
   "display_name": "Python 3.8.5 64-bit"
  },
  "interpreter": {
   "hash": "31f2aee4e71d21fbe5cf8b01ff0e069b9275f58929596ceb00d14d90e3e16cd6"
  }
 },
 "nbformat": 4,
 "nbformat_minor": 4
}